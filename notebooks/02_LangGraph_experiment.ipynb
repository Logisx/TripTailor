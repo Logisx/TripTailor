{
 "cells": [
  {
   "cell_type": "code",
   "execution_count": 29,
   "id": "d0168aee-bce9-4d60-b827-f86a88187e31",
   "metadata": {
    "height": 148
   },
   "outputs": [],
   "source": [
    "from dotenv import load_dotenv\n",
    "\n",
    "_ = load_dotenv()\n",
    "\n",
    "from langgraph.graph import StateGraph, END\n",
    "from typing import TypedDict, Annotated, List\n",
    "import operator\n",
    "from langgraph.checkpoint.sqlite import SqliteSaver\n",
    "from langchain_core.messages import AnyMessage, SystemMessage, HumanMessage, AIMessage, ChatMessage, ToolMessage\n"
   ]
  },
  {
   "cell_type": "code",
   "execution_count": 30,
   "id": "2589c5b6-6cc2-4594-9a17-dccdcf676054",
   "metadata": {
    "height": 149
   },
   "outputs": [],
   "source": [
    "memory = SqliteSaver.from_conn_string(\":memory:\")\n",
    "\n",
    "\n",
    "from langchain_openai import ChatOpenAI\n",
    "model = ChatOpenAI(model=\"gpt-3.5-turbo\", temperature=0)\n",
    "\n",
    "\n",
    "from pydantic import BaseModel, Field\n",
    "class Queries(BaseModel):\n",
    "    queries: List[str]\n",
    "    \n",
    "\n",
    "    \n",
    "from tavily import TavilyClient\n",
    "import os\n",
    "#tavily = TavilyClient(api_key=os.environ[\"TAVILY_API_KEY\"])"
   ]
  },
  {
   "cell_type": "code",
   "execution_count": 31,
   "id": "15e315a4",
   "metadata": {},
   "outputs": [
    {
     "name": "stderr",
     "output_type": "stream",
     "text": [
      "c:\\Users\\logis\\AppData\\Local\\pypoetry\\Cache\\virtualenvs\\ai-travel-planner-WLuryUIH-py3.11\\Lib\\site-packages\\pydantic\\_internal\\_config.py:341: UserWarning: Valid config keys have changed in V2:\n",
      "* 'schema_extra' has been renamed to 'json_schema_extra'\n",
      "  warnings.warn(message, UserWarning)\n"
     ]
    }
   ],
   "source": [
    "from typing import List, Optional, Dict\n",
    "from langchain_core.output_parsers import JsonOutputParser\n",
    "\n",
    "class UserPreferences(BaseModel):\n",
    "    # Basic preferences\n",
    "    budget: str = Field(description=\"Budget range the user is able to spend (e.g., low, medium, high, extra-high)\")\n",
    "    trip_duration: int = Field(description=\"Total number of days for the trip\")\n",
    "    destination: str = Field(description=\"Primary destination or country of the trip\")\n",
    "    \n",
    "    # Travel type and group size\n",
    "    trip_type: str = Field(description=\"Type of trip (e.g., family trip, solo travel, couple's getaway, group travel)\")\n",
    "    group_size: Optional[int] = Field(description=\"Number of people traveling together\")\n",
    "    \n",
    "    # Interests and activities\n",
    "    interests: List[str] = Field(description=\"List of activities the user is interested in (e.g., museums, nature, food, nightlife, shopping)\")\n",
    "    \n",
    "    # Preferences for locations and experiences\n",
    "    accommodation_type: Optional[str] = Field(description=\"Preferred type of accommodation (e.g., hotel, Airbnb, hostel, resort)\", default=\"hotel\")\n",
    "    preferred_travel_distance: Optional[str] = Field(description=\"Preferred travel distance between locations (e.g., short, medium, long)\", default=\"medium\")\n",
    "    \n",
    "    # Meal preferences and dietary restrictions\n",
    "    meal_preferences: Optional[List[str]] = Field(description=\"Preferences for meals (e.g., vegetarian, vegan, local cuisine, fine dining)\", default=[])\n",
    "    \n",
    "    # Accessibility and special requirements\n",
    "    accessibility_needs: Optional[bool] = Field(description=\"Indicates if there are any accessibility needs (e.g., wheelchair access)\", default=False)\n",
    "    pet_friendly: Optional[bool] = Field(description=\"Indicates if pet-friendly places are preferred\", default=False)\n",
    "    \n",
    "    # Time and season preferences\n",
    "    season: Optional[str] = Field(description=\"Preferred season for travel (e.g., summer, winter, spring, autumn)\", default=\"any\")\n",
    "    flexibility: Optional[bool] = Field(description=\"Indicates if the user is flexible with dates or destinations\", default=True)\n",
    "    \n",
    "    other: Optional[List[str]] = Field(description=\"Any other preferences the user has\", default=[])\n",
    "\n",
    "    class Config:\n",
    "        schema_extra = {\n",
    "            \"example\": {\n",
    "                \"budget\": \"medium\",\n",
    "                \"trip_duration\": 7,\n",
    "                \"destination\": \"Italy\",\n",
    "                \"trip_type\": \"family trip\",\n",
    "                \"group_size\": 4,\n",
    "                \"interests\": [\"museums\", \"nature\", \"food\", \"beach\"],\n",
    "                \"accommodation_type\": \"resort\",\n",
    "                \"preferred_travel_distance\": \"short\",\n",
    "                \"meal_preferences\": [\"local cuisine\", \"vegetarian\"],\n",
    "                \"accessibility_needs\": False,\n",
    "                \"pet_friendly\": False,\n",
    "                \"season\": \"summer\",\n",
    "                \"flexibility\": True,\n",
    "                \"other\": []\n",
    "            }\n",
    "        }\n",
    "\n",
    "\n",
    "user_preferences_parser = JsonOutputParser(pydantic_object=UserPreferences)"
   ]
  },
  {
   "cell_type": "code",
   "execution_count": 32,
   "id": "ab0958ff",
   "metadata": {},
   "outputs": [],
   "source": [
    "# Define the schema for information about a city\n",
    "class CityInfo(BaseModel):\n",
    "    destinations: List[str] = Field(default=[], description=\"List of tourist destinations or attractions in the city\")\n",
    "    restaurants: List[str] = Field(default=[], description=\"List of recommended restaurants/cafes in the city\")\n",
    "    accomodation: List[str] = Field(default=[], description=\"List of suggested accomodation in the city\")\n",
    "    activities: Optional[List[str]] = Field(default=[], description=\"Popular activities or experiences to do in the city\")\n",
    "    events: Optional[List[str]] = Field(default=[], description=\"Current or upcoming events in the city\")\n",
    "    #shopping: Optional[List[str]] = Field(default=[], description=\"Recommended shopping areas or stores in the city\")\n",
    "    #nightlife: Optional[List[str]] = Field(default=[], description=\"Nightlife spots, clubs, or entertainment venues\")\n",
    "    #parks_nature_spots: Optional[List[str]] = Field(default=[], description=\"Parks, gardens, or nature spots in or near the city\")\n",
    "    #transportation: Optional[List[str]] = Field(default=[], description=\"Tips and recommendations for local transportation\")\n",
    "    #cultural_experiences: Optional[List[str]] = Field(default=[], description=\"Specific cultural experiences or activities\")\n",
    "    #local_tips: Optional[List[str]] = Field(default=[], description=\"Insider tips or local recommendations\")\n",
    "    #health_safety: Optional[List[str]] = Field(default=[], description=\"Health and safety information in the city\")\n",
    "    #weather_seasonal_info: Optional[List[str]] = Field(default=[], description=\"Average weather conditions or seasonal information\")\n",
    "    #day_trips: Optional[List[str]] = Field(default=[], description=\"Recommended day trips or nearby excursions from the city\")\n",
    "    #family_friendly: Optional[List[str]] = Field(default=[], description=\"Activities or attractions suitable for families with children\")\n",
    "    #pet_friendly_places: Optional[List[str]] = Field(default=[], description=\"Pet-friendly places such as parks, hotels, or restaurants\")\n",
    "    #photo_spots: Optional[List[str]] = Field(default=[], description=\"Suggested locations for taking memorable photos or enjoying scenic views\")\n",
    "    #accessibility: Optional[List[str]] = Field(default=[], description=\"Accessibility information for destinations, public transport, and hotels\")\n",
    "\n",
    "# Define the schema for the entire ideas generation structure\n",
    "class TravelIdeas(BaseModel):\n",
    "    ideas: Dict[str, CityInfo] = Field(description=\"Dictionary containing city names as keys and their respective information as values\")\n",
    "    \n",
    "    class Config:\n",
    "        schema_extra = {\n",
    "            \"example\": {\n",
    "                \"ideas\": {\n",
    "                    \"Rome, Italy\": {\n",
    "                        \"destinations\": [\"Colosseum\", \"Vatican City\", \"Roman Forum\", \"Pantheon\"],\n",
    "                        \"restaurants\": [\"Ristorante Aroma\", \"La Pergola\", \"Felice a Testaccio\"],\n",
    "                        \"hotels\": [\"Hotel Hassler\", \"Hotel Eden\", \"The St. Regis Rome\"],\n",
    "                        \"activities\": [\"Gondola ride\", \"Guided tour of Roman ruins\", \"Nighttime Colosseum tour\"],\n",
    "                        \"shopping\": [\"Via Condotti\", \"Campo de' Fiori market\"],\n",
    "                        #\"nightlife\": [\"Harry's Bar\", \"Live jazz at Gregory's Jazz Club\"],\n",
    "                        #\"cultural_experiences\": [\"Cooking class to learn Italian cuisine\"],\n",
    "                        #\"photo_spots\": [\"Gianicolo Hill\", \"Piazza Navona\"],\n",
    "                        #\"parks_nature_spots\": [\"Villa Borghese\", \"Giardino degli Aranci\"],\n",
    "                        #\"transportation\": [\"Best way to get around Rome is by metro\", \"Use public buses for sightseeing\"],\n",
    "                        #\"local_tips\": [\"Avoid visiting the Colosseum on weekends\", \"Try local street food at Testaccio Market\"],\n",
    "                        #\"health_safety\": [\"Nearest hospital: Policlinico Umberto I\", \"Emergency contact numbers: 112\"],\n",
    "                        #\"weather_seasonal_info\": [\"Best time to visit Rome is from April to June\", \"Expect high temperatures in August\"],\n",
    "                        #\"day_trips\": [\"Day trip to Pompeii\", \"Visit Tivoli for Villa d'Este\"],\n",
    "                        #\"family_friendly\": [\"Visit the Children's Museum of Rome\", \"Explora Children's Museum\"],\n",
    "                        #\"pet_friendly_places\": [\"Pet-friendly hotel: Hotel Santa Maria\", \"Dog park: Parco Savello\"],\n",
    "                        #\"accessibility\": [\"Colosseum has an elevator for wheelchair access\", \"Accessible public transport routes available\"],\n",
    "                    },\n",
    "                    \"Florence, Italy\": {\n",
    "                        \"destinations\": [\"Florence Cathedral\", \"Uffizi Gallery\", \"Ponte Vecchio\", \"Boboli Gardens\"],\n",
    "                        \"restaurants\": [\"Osteria Francescana\", \"Enoteca Pinchiorri\", \"Trattoria Mario\"],\n",
    "                        \"hotels\": [\"Hotel Savoy\", \"Four Seasons Hotel Firenze\", \"Villa Cora\"],\n",
    "                        \"activities\": [\"Art tour of the Uffizi Gallery\", \"Visit to the Accademia Gallery\"],\n",
    "                        #\"shopping\": [\"Via de' Tornabuoni\", \"Mercato Centrale\"],\n",
    "                        #\"cultural_experiences\": [\"Florence Duomo climbing experience\", \"Cooking class in Florence\"],\n",
    "                        #\"photo_spots\": [\"Piazzale Michelangelo\", \"View from Ponte Vecchio\"],\n",
    "                        #\"parks_nature_spots\": [\"Boboli Gardens\", \"Giardino Bardini\"]\n",
    "                    }\n",
    "                }\n",
    "            }\n",
    "        }\n",
    "\n",
    "travel_ideas_parser = JsonOutputParser(pydantic_object=TravelIdeas)\n"
   ]
  },
  {
   "cell_type": "code",
   "execution_count": 33,
   "id": "f1ecbdc0",
   "metadata": {},
   "outputs": [],
   "source": [
    "class AgentState(TypedDict):\n",
    "    user_query: str\n",
    "    user_preferences: UserPreferences\n",
    "    travel_ideas: TravelIdeas\n",
    "    itinerary: str\n",
    "    messages: Annotated[List[AnyMessage], operator.add]"
   ]
  },
  {
   "cell_type": "code",
   "execution_count": 34,
   "id": "10084a02-2928-4945-9f7c-ad3f5b33caf7",
   "metadata": {
    "height": 165
   },
   "outputs": [],
   "source": [
    "from langchain_core.prompts import PromptTemplate\n",
    "\n",
    "PREFERENCES_EXTRACTION_PROMPT = PromptTemplate(\n",
    "    template = \"\"\"\n",
    "    You are an expert travel agent tasked with extracting structured information to fill out a questionnaire about the customer's planned trip.\n",
    "    Based on the customer's query, extract the key information about their trip preferences and format it accordingly.\n",
    "\n",
    "    Provide the extracted preferences in the following structured format:\n",
    "    {format_instructions}\n",
    "\n",
    "    Customer's Query:\n",
    "    {user_query}\n",
    "    \"\"\",\n",
    "    input_variables=[\"user_query\"],\n",
    "    partial_variables={\"format_instructions\": user_preferences_parser.get_format_instructions()},\n",
    ")\n",
    "\n",
    "\n",
    "IDEAS_GENERATION_PROMPT = PromptTemplate(\n",
    "    template = \"\"\"\n",
    "    You are an expert travel agent tasked with creating a list of places the customer may want to visit.\n",
    "    Based on the customer's preferences provided below, suggest a list of diverse places that fit the customer's interests. \n",
    "    Ensure the list includes a mix of well-known and hidden gem destinations, while also considering the geographic proximity of locations to make travel between them feasible. \n",
    "    Provide more ideas than the customer can visit within the trip, as they will later decide what to include and exclude from their itinerary.\n",
    "    \n",
    "    Provide the travel ideas in the following structured format:\n",
    "    {format_instructions}\n",
    "\n",
    "    Customer preferences:\n",
    "    {user_preferences}\n",
    "    \"\"\",\n",
    "    input_variables=['user_preferences'],\n",
    "    partial_variables={\"format_instructions\": travel_ideas_parser.get_format_instructions()},\n",
    ")\n",
    "\n",
    "\n",
    "ITINERARY_PLANNING_PROMPT = \"\"\"\n",
    "    You are an expert travel agent tasked with creating a detailed trip itinerary based on the customer's preferences and a dictionary of suggested places to visit in different cities. \n",
    "    Please create an itinerary that balances key attractions and activities with the practical aspects of travel, such as distances, travel time, and meal or rest breaks. \n",
    "    Provide a structured plan, distributing activities across each day of the trip.\n",
    "    For each major activity try to offer at least two alternatives so the customer may choose between them.\n",
    "\n",
    "    Consider the following factors:\n",
    "    - Prioritize activities that match the customer's preferences.\n",
    "    - Ensure travel between locations is feasible, taking into account distances and available time.\n",
    "    - Provide suggestions for meals or breaks at suitable times.\n",
    "    - Offer a diverse range of activities to allow flexibility in planning.\n",
    "\n",
    "    Use the search engine to look up information. \\\n",
    "    You are allowed to make multiple calls (either together or in sequence). \\\n",
    "    Only look up information when you are sure of what you want. \\\n",
    "    If you need to look up some information before asking a follow up question, you are allowed to do that!\n",
    "\n",
    "    Utilize all the information below as needed:\n",
    "\n",
    "    ------\n",
    "    Customer preferences:\n",
    "    {user_preferences}\n",
    "\n",
    "    ------\n",
    "    Inspiration ideas:\n",
    "    {travel_ideas}\n",
    "    \"\"\"\n"
   ]
  },
  {
   "cell_type": "code",
   "execution_count": 35,
   "id": "6b2f82fe-3ec4-4917-be51-9fb10d1317fa",
   "metadata": {
    "height": 132
   },
   "outputs": [],
   "source": [
    "def preferences_extraction_node(state: AgentState):\n",
    "    chain = PREFERENCES_EXTRACTION_PROMPT | model | user_preferences_parser\n",
    "    response = chain.invoke({\"user_query\": state['user_query']})\n",
    "    return {\"user_preferences\": response}\n",
    "\n",
    "\n",
    "def ideas_generation_node(state: AgentState):\n",
    "    chain = IDEAS_GENERATION_PROMPT | model | travel_ideas_parser\n",
    "    response = chain.invoke({\"user_preferences\": state['user_preferences']})\n",
    "    return {\"travel_ideas\": response}\n",
    "\n",
    "def itinerary_planning_node(state: AgentState):\n",
    "    messages = [\n",
    "        SystemMessage(\n",
    "            content=ITINERARY_PLANNING_PROMPT.format(travel_ideas=state['travel_ideas'], user_preferences=state['user_preferences'])\n",
    "        )\n",
    "        ]\n",
    "    response = model.invoke(messages)\n",
    "    return {\"itinerary\": response.content}\n",
    "\n",
    "'''\n",
    "def exists_action(self, state: AgentState):\n",
    "        result = state['messages'][-1]\n",
    "        return len(result.tool_calls) > 0\n",
    "\n",
    "def take_action(self, state: AgentState):\n",
    "    tool_calls = state['messages'][-1].tool_calls\n",
    "    results = []\n",
    "    for t in tool_calls:\n",
    "        print(f\"Calling: {t}\")\n",
    "        result = self.tools[t['name']].invoke(t['args'])\n",
    "        results.append(ToolMessage(tool_call_id=t['id'], name=t['name'], content=str(result)))\n",
    "    print(\"Back to the model!\")\n",
    "    return {'messages': results}\n",
    "'''\n",
    "\n",
    "builder = StateGraph(AgentState)\n",
    "builder.add_node(\"preferences_extraction\", preferences_extraction_node)\n",
    "builder.add_node(\"ideas_generation\", ideas_generation_node)\n",
    "builder.add_node(\"itinerary_planning\", itinerary_planning_node)\n",
    "builder.set_entry_point(\"preferences_extraction\")\n",
    "builder.add_edge(\"preferences_extraction\", \"ideas_generation\")\n",
    "builder.add_edge(\"ideas_generation\", \"itinerary_planning\")\n",
    "graph = builder.compile(checkpointer=memory)"
   ]
  },
  {
   "cell_type": "code",
   "execution_count": 36,
   "id": "98f3be1d-cc4c-41fa-9863-3e386e88e305",
   "metadata": {
    "height": 132
   },
   "outputs": [
    {
     "name": "stdout",
     "output_type": "stream",
     "text": [
      "{'preferences_extraction': {'user_preferences': {'budget': 'moderate', 'trip_duration': 3, 'destination': 'Italy', 'trip_type': 'family trip', 'group_size': None, 'interests': ['historical sites', 'good food', 'outdoor activities'], 'accommodation_type': 'hotel', 'preferred_travel_distance': 'short', 'meal_preferences': [], 'accessibility_needs': False, 'pet_friendly': None, 'season': 'any', 'flexibility': True, 'other': ['one day without activities']}}}\n",
      "{'ideas_generation': {'travel_ideas': {'ideas': {'Rome': {'destinations': ['Colosseum', 'Roman Forum', 'Trevi Fountain', 'Pantheon'], 'restaurants': ['La Pergola', 'Roscioli', 'Da Enzo al 29'], 'accomodation': ['Hotel Eden', 'Hotel Artemide', 'Hotel Raphael'], 'activities': ['Visit Vatican City', 'Explore Trastevere neighborhood', 'Cooking class to learn Italian cuisine'], 'events': ['Outdoor concerts in Villa Borghese Gardens', 'Local food festivals']}, 'Florence': {'destinations': ['Duomo Cathedral', 'Uffizi Gallery', 'Ponte Vecchio', 'Boboli Gardens'], 'restaurants': ['Trattoria Mario', 'La Giostra', 'Osteria Cinghiale Bianco'], 'accomodation': ['Hotel Lungarno', 'Hotel Savoy', 'Portrait Firenze'], 'activities': [\"Visit the Accademia Gallery to see Michelangelo's David\", 'Walk up to Piazzale Michelangelo for panoramic views', 'Bike tour in the Tuscan countryside'], 'events': [\"Opera performances at St. Mark's Anglican Church\", 'Artisan markets in Piazza Santo Spirito']}, 'Amalfi Coast': {'destinations': ['Positano', 'Amalfi', 'Ravello', 'Capri Island'], 'restaurants': ['La Sponda', 'Da Adolfo', \"Ristorante Saraceno d'Oro\"], 'accomodation': ['Belmond Hotel Caruso', 'Hotel Santa Caterina', 'Le Sirenuse'], 'activities': ['Boat tour along the coast', 'Hike the Path of the Gods', 'Relax on the beaches of Positano'], 'events': ['Lemon festivals in Amalfi', 'Concerts at Villa Rufolo in Ravello']}}}}}\n",
      "{'itinerary_planning': {'itinerary': \"Based on your preferences and the suggested destinations and activities in Italy, here is a detailed itinerary for your 3-day family trip:\\n\\n---\\n\\n### Day 1: Rome\\n- **Morning:**\\n  - Option 1: Visit the **Colosseum** and **Roman Forum**\\n  - Option 2: Explore the **Trastevere neighborhood**\\n- **Lunch:** Enjoy a meal at **Roscioli** or **Da Enzo al 29**\\n- **Afternoon:**\\n  - Option 1: Visit the **Trevi Fountain** and **Pantheon**\\n  - Option 2: Take a **cooking class** to learn Italian cuisine\\n- **Dinner:** Taste exquisite dishes at **La Pergola**\\n- **Evening:** Attend an **outdoor concert** in Villa Borghese Gardens\\n\\n### Day 2: Florence\\n- **Morning:**\\n  - Option 1: Visit the **Duomo Cathedral** and **Uffizi Gallery**\\n  - Option 2: Explore the **Boboli Gardens**\\n- **Lunch:** Try local cuisine at **Trattoria Mario** or **Osteria Cinghiale Bianco**\\n- **Afternoon:**\\n  - Option 1: Visit the **Ponte Vecchio** and **Accademia Gallery** to see Michelangelo's David\\n  - Option 2: Walk up to **Piazzale Michelangelo** for panoramic views\\n- **Dinner:** Dine at **La Giostra**\\n- **Evening:** Enjoy an **opera performance** at St. Mark's Anglican Church\\n\\n### Day 3: Amalfi Coast\\n- **Morning:**\\n  - Option 1: Explore **Positano** and relax on its beaches\\n  - Option 2: Take a **boat tour** along the coast\\n- **Lunch:** Indulge in a meal at **Da Adolfo** or **Ristorante Saraceno d'Oro**\\n- **Afternoon:**\\n  - Option 1: Hike the **Path of the Gods**\\n  - Option 2: Visit **Ravello** and attend a concert at Villa Rufolo\\n- **Dinner:** Savor a delightful dinner at **Le Sirenuse**\\n- **Evening:** Enjoy the serene atmosphere of the Amalfi Coast\\n\\n### Additional Notes:\\n- **Accommodation:** You can stay at **Hotel Eden** in Rome, **Hotel Lungarno** in Florence, and **Belmond Hotel Caruso** on the Amalfi Coast.\\n- **Transportation:** Consider using trains or private transfers for travel between cities to maximize your time.\\n- **Meals:** Feel free to explore local eateries and try different cuisines based on your preferences.\\n- **Rest Day:** You can plan a relaxed day without activities in any of the destinations to unwind and recharge.\\n\\n---\\n\\nThis itinerary offers a mix of historical sites, good food, and outdoor activities while ensuring a balanced and enjoyable experience for your family trip to Italy. Feel free to adjust any activities based on your interests and preferences. Enjoy your trip!\"}}\n"
     ]
    }
   ],
   "source": [
    "user_task = \"\"\"\n",
    "    I am planning a 3-day family trip to Italy. We enjoy historical sites, good food, and outdoor activities. \\\n",
    "    We’d like to visit different cities and explore famous landmarks, but also have some relaxing days in nature. \\\n",
    "    Would like to keep one day without any activities, just to say at the hotel and rest.\\\n",
    "    Our budget is moderate, and we prefer shorter travel distances between destinations.\n",
    "    \"\"\"\n",
    "\n",
    "\n",
    "\n",
    "with SqliteSaver.from_conn_string(\":memory:\") as memory:\n",
    "    graph = builder.compile(checkpointer=memory)\n",
    "    thread = {\"configurable\": {\"thread_id\": \"1\"}}\n",
    "    response = []\n",
    "\n",
    "    for s in graph.stream({\n",
    "        'user_query': user_task,\n",
    "    }, thread):\n",
    "        print(s)\n",
    "        response.append(s)"
   ]
  },
  {
   "cell_type": "code",
   "execution_count": 38,
   "id": "8cbbae76",
   "metadata": {},
   "outputs": [
    {
     "data": {
      "text/plain": [
       "{'budget': 'moderate',\n",
       " 'trip_duration': 3,\n",
       " 'destination': 'Italy',\n",
       " 'trip_type': 'family trip',\n",
       " 'group_size': None,\n",
       " 'interests': ['historical sites', 'good food', 'outdoor activities'],\n",
       " 'accommodation_type': 'hotel',\n",
       " 'preferred_travel_distance': 'short',\n",
       " 'meal_preferences': [],\n",
       " 'accessibility_needs': False,\n",
       " 'pet_friendly': None,\n",
       " 'season': 'any',\n",
       " 'flexibility': True,\n",
       " 'other': ['one day without activities']}"
      ]
     },
     "metadata": {},
     "output_type": "display_data"
    },
    {
     "data": {
      "text/plain": [
       "{'ideas': {'Rome': {'destinations': ['Colosseum',\n",
       "    'Roman Forum',\n",
       "    'Trevi Fountain',\n",
       "    'Pantheon'],\n",
       "   'restaurants': ['La Pergola', 'Roscioli', 'Da Enzo al 29'],\n",
       "   'accomodation': ['Hotel Eden', 'Hotel Artemide', 'Hotel Raphael'],\n",
       "   'activities': ['Visit Vatican City',\n",
       "    'Explore Trastevere neighborhood',\n",
       "    'Cooking class to learn Italian cuisine'],\n",
       "   'events': ['Outdoor concerts in Villa Borghese Gardens',\n",
       "    'Local food festivals']},\n",
       "  'Florence': {'destinations': ['Duomo Cathedral',\n",
       "    'Uffizi Gallery',\n",
       "    'Ponte Vecchio',\n",
       "    'Boboli Gardens'],\n",
       "   'restaurants': ['Trattoria Mario',\n",
       "    'La Giostra',\n",
       "    'Osteria Cinghiale Bianco'],\n",
       "   'accomodation': ['Hotel Lungarno', 'Hotel Savoy', 'Portrait Firenze'],\n",
       "   'activities': [\"Visit the Accademia Gallery to see Michelangelo's David\",\n",
       "    'Walk up to Piazzale Michelangelo for panoramic views',\n",
       "    'Bike tour in the Tuscan countryside'],\n",
       "   'events': [\"Opera performances at St. Mark's Anglican Church\",\n",
       "    'Artisan markets in Piazza Santo Spirito']},\n",
       "  'Amalfi Coast': {'destinations': ['Positano',\n",
       "    'Amalfi',\n",
       "    'Ravello',\n",
       "    'Capri Island'],\n",
       "   'restaurants': ['La Sponda', 'Da Adolfo', \"Ristorante Saraceno d'Oro\"],\n",
       "   'accomodation': ['Belmond Hotel Caruso',\n",
       "    'Hotel Santa Caterina',\n",
       "    'Le Sirenuse'],\n",
       "   'activities': ['Boat tour along the coast',\n",
       "    'Hike the Path of the Gods',\n",
       "    'Relax on the beaches of Positano'],\n",
       "   'events': ['Lemon festivals in Amalfi',\n",
       "    'Concerts at Villa Rufolo in Ravello']}}}"
      ]
     },
     "metadata": {},
     "output_type": "display_data"
    },
    {
     "data": {
      "text/markdown": [
       "Based on your preferences and the suggested destinations and activities in Italy, here is a detailed itinerary for your 3-day family trip:\n",
       "\n",
       "---\n",
       "\n",
       "### Day 1: Rome\n",
       "- **Morning:**\n",
       "  - Option 1: Visit the **Colosseum** and **Roman Forum**\n",
       "  - Option 2: Explore the **Trastevere neighborhood**\n",
       "- **Lunch:** Enjoy a meal at **Roscioli** or **Da Enzo al 29**\n",
       "- **Afternoon:**\n",
       "  - Option 1: Visit the **Trevi Fountain** and **Pantheon**\n",
       "  - Option 2: Take a **cooking class** to learn Italian cuisine\n",
       "- **Dinner:** Taste exquisite dishes at **La Pergola**\n",
       "- **Evening:** Attend an **outdoor concert** in Villa Borghese Gardens\n",
       "\n",
       "### Day 2: Florence\n",
       "- **Morning:**\n",
       "  - Option 1: Visit the **Duomo Cathedral** and **Uffizi Gallery**\n",
       "  - Option 2: Explore the **Boboli Gardens**\n",
       "- **Lunch:** Try local cuisine at **Trattoria Mario** or **Osteria Cinghiale Bianco**\n",
       "- **Afternoon:**\n",
       "  - Option 1: Visit the **Ponte Vecchio** and **Accademia Gallery** to see Michelangelo's David\n",
       "  - Option 2: Walk up to **Piazzale Michelangelo** for panoramic views\n",
       "- **Dinner:** Dine at **La Giostra**\n",
       "- **Evening:** Enjoy an **opera performance** at St. Mark's Anglican Church\n",
       "\n",
       "### Day 3: Amalfi Coast\n",
       "- **Morning:**\n",
       "  - Option 1: Explore **Positano** and relax on its beaches\n",
       "  - Option 2: Take a **boat tour** along the coast\n",
       "- **Lunch:** Indulge in a meal at **Da Adolfo** or **Ristorante Saraceno d'Oro**\n",
       "- **Afternoon:**\n",
       "  - Option 1: Hike the **Path of the Gods**\n",
       "  - Option 2: Visit **Ravello** and attend a concert at Villa Rufolo\n",
       "- **Dinner:** Savor a delightful dinner at **Le Sirenuse**\n",
       "- **Evening:** Enjoy the serene atmosphere of the Amalfi Coast\n",
       "\n",
       "### Additional Notes:\n",
       "- **Accommodation:** You can stay at **Hotel Eden** in Rome, **Hotel Lungarno** in Florence, and **Belmond Hotel Caruso** on the Amalfi Coast.\n",
       "- **Transportation:** Consider using trains or private transfers for travel between cities to maximize your time.\n",
       "- **Meals:** Feel free to explore local eateries and try different cuisines based on your preferences.\n",
       "- **Rest Day:** You can plan a relaxed day without activities in any of the destinations to unwind and recharge.\n",
       "\n",
       "---\n",
       "\n",
       "This itinerary offers a mix of historical sites, good food, and outdoor activities while ensuring a balanced and enjoyable experience for your family trip to Italy. Feel free to adjust any activities based on your interests and preferences. Enjoy your trip!"
      ],
      "text/plain": [
       "<IPython.core.display.Markdown object>"
      ]
     },
     "metadata": {},
     "output_type": "display_data"
    }
   ],
   "source": [
    "from IPython.display import Markdown, display\n",
    "\n",
    "response_dict = {}\n",
    "for node_response in response:\n",
    "    response_dict.update(node_response)\n",
    "\n",
    "# Itinerary text with markdown formatting\n",
    "preferences_json = response_dict['preferences_extraction']['user_preferences']\n",
    "ideas_json = response_dict['ideas_generation']['travel_ideas']\n",
    "itinerary_md = response_dict['itinerary_planning']['itinerary']\n",
    "\n",
    "\n",
    "# Display the markdown\n",
    "display(preferences_json)\n",
    "display(ideas_json)\n",
    "display(Markdown(itinerary_md))\n"
   ]
  },
  {
   "cell_type": "code",
   "execution_count": null,
   "id": "592b5e62-a203-433c-92a0-3783f490cde1",
   "metadata": {
    "height": 30
   },
   "outputs": [],
   "source": []
  },
  {
   "cell_type": "code",
   "execution_count": null,
   "id": "14fa923c-7e4f-42d1-965f-0f8ccd50fbd7",
   "metadata": {
    "height": 30
   },
   "outputs": [],
   "source": []
  },
  {
   "cell_type": "code",
   "execution_count": null,
   "id": "570c6245-2837-4ac5-983b-95f61f3ac10d",
   "metadata": {
    "height": 30
   },
   "outputs": [],
   "source": []
  },
  {
   "cell_type": "code",
   "execution_count": null,
   "id": "6b910915-b087-4d35-afff-0ec30a5852f1",
   "metadata": {
    "height": 30
   },
   "outputs": [],
   "source": []
  },
  {
   "cell_type": "code",
   "execution_count": null,
   "id": "c4feb6cc-5129-4a99-bb45-851bc07b5709",
   "metadata": {
    "height": 30
   },
   "outputs": [],
   "source": []
  },
  {
   "cell_type": "code",
   "execution_count": null,
   "id": "e85a02b4-96cc-4b01-8792-397a774eb499",
   "metadata": {
    "height": 30
   },
   "outputs": [],
   "source": []
  },
  {
   "cell_type": "code",
   "execution_count": null,
   "id": "ae8b86a6-5e20-4252-b1d8-009b8318345a",
   "metadata": {
    "height": 30
   },
   "outputs": [],
   "source": []
  },
  {
   "cell_type": "code",
   "execution_count": null,
   "id": "af925917-b746-48c9-ac74-62fefbe5246c",
   "metadata": {
    "height": 30
   },
   "outputs": [],
   "source": []
  },
  {
   "cell_type": "code",
   "execution_count": null,
   "id": "d5048f2c-4d82-49a5-9cb1-918d78b39f7b",
   "metadata": {
    "height": 30
   },
   "outputs": [],
   "source": []
  },
  {
   "cell_type": "code",
   "execution_count": null,
   "id": "393f7f1f-68b4-4462-bfa5-b6472ef1304a",
   "metadata": {
    "height": 30
   },
   "outputs": [],
   "source": []
  },
  {
   "cell_type": "code",
   "execution_count": null,
   "id": "43ac0aa9-baa7-4b58-889d-2118cc00c6b5",
   "metadata": {
    "height": 30
   },
   "outputs": [],
   "source": []
  },
  {
   "cell_type": "code",
   "execution_count": null,
   "id": "ed6098b9-e2a9-4767-8cb5-346db835c8d2",
   "metadata": {
    "height": 30
   },
   "outputs": [],
   "source": []
  },
  {
   "cell_type": "code",
   "execution_count": null,
   "id": "2d23cf2a-a179-44dc-9ae3-2eddda4b67b4",
   "metadata": {
    "height": 30
   },
   "outputs": [],
   "source": []
  },
  {
   "cell_type": "code",
   "execution_count": null,
   "id": "14a6005b-0221-4f5e-9be0-0580c1d03126",
   "metadata": {
    "height": 30
   },
   "outputs": [],
   "source": []
  },
  {
   "cell_type": "code",
   "execution_count": null,
   "id": "41c1ec12-f1c8-41ae-bb3e-5f28997b9b99",
   "metadata": {
    "height": 30
   },
   "outputs": [],
   "source": []
  },
  {
   "cell_type": "code",
   "execution_count": null,
   "id": "5c8c07d7-be17-4c17-82c5-6fe1db028b8b",
   "metadata": {
    "height": 30
   },
   "outputs": [],
   "source": []
  },
  {
   "cell_type": "code",
   "execution_count": null,
   "id": "04592c8e-1cfe-4b26-93b5-caf1ed1e7d24",
   "metadata": {
    "height": 30
   },
   "outputs": [],
   "source": []
  },
  {
   "cell_type": "code",
   "execution_count": null,
   "id": "6181c4a9-0e71-4f67-b71f-18a225e37202",
   "metadata": {
    "height": 30
   },
   "outputs": [],
   "source": []
  },
  {
   "cell_type": "code",
   "execution_count": null,
   "id": "e1c478a9-7bfe-49e2-8a7d-1536271f45a6",
   "metadata": {
    "height": 30
   },
   "outputs": [],
   "source": []
  },
  {
   "cell_type": "code",
   "execution_count": null,
   "id": "0a6d6771-3fad-4f37-9b32-45b36ad85c59",
   "metadata": {
    "height": 30
   },
   "outputs": [],
   "source": []
  },
  {
   "cell_type": "code",
   "execution_count": null,
   "id": "a3629eb3-655d-467a-b413-63f547c2de08",
   "metadata": {
    "height": 30
   },
   "outputs": [],
   "source": []
  },
  {
   "cell_type": "code",
   "execution_count": null,
   "id": "f772f251-2b61-4d10-97c5-61cef9207a76",
   "metadata": {
    "height": 30
   },
   "outputs": [],
   "source": []
  },
  {
   "cell_type": "code",
   "execution_count": null,
   "id": "0de92979-7ac5-4a7c-91c1-10806b7d529c",
   "metadata": {
    "height": 30
   },
   "outputs": [],
   "source": []
  },
  {
   "cell_type": "code",
   "execution_count": null,
   "id": "479c4325-f625-4bbf-9d74-cc58f10763f2",
   "metadata": {
    "height": 30
   },
   "outputs": [],
   "source": []
  },
  {
   "cell_type": "code",
   "execution_count": null,
   "id": "c4070be7-72da-42f9-a25d-8a6c628788b8",
   "metadata": {
    "height": 30
   },
   "outputs": [],
   "source": []
  },
  {
   "cell_type": "code",
   "execution_count": null,
   "id": "9289efbe-7033-4f32-8482-2039c5f9db90",
   "metadata": {
    "height": 30
   },
   "outputs": [],
   "source": []
  },
  {
   "cell_type": "code",
   "execution_count": null,
   "id": "25e480bb-22ab-4acb-a42c-71da3d04a5b1",
   "metadata": {
    "height": 30
   },
   "outputs": [],
   "source": []
  },
  {
   "cell_type": "code",
   "execution_count": null,
   "id": "90dea35c-7483-4b3d-b5e3-76eb3a0fe536",
   "metadata": {
    "height": 30
   },
   "outputs": [],
   "source": []
  },
  {
   "cell_type": "code",
   "execution_count": null,
   "id": "e9ac5730-a9d5-4ea4-8546-ebcb265cf1da",
   "metadata": {
    "height": 30
   },
   "outputs": [],
   "source": []
  },
  {
   "cell_type": "code",
   "execution_count": null,
   "id": "96e1f28b-46d8-4bcd-b2e4-730376ee7ccf",
   "metadata": {
    "height": 30
   },
   "outputs": [],
   "source": []
  },
  {
   "cell_type": "code",
   "execution_count": null,
   "id": "22ac7020-b4f4-4bd2-a875-ccee93f83d83",
   "metadata": {
    "height": 30
   },
   "outputs": [],
   "source": []
  },
  {
   "cell_type": "code",
   "execution_count": null,
   "id": "61f79eb9-d1c9-44b0-9efd-a8f9b380332a",
   "metadata": {
    "height": 30
   },
   "outputs": [],
   "source": []
  },
  {
   "cell_type": "code",
   "execution_count": null,
   "id": "ce509206-bde1-43e4-a88f-8a565539d357",
   "metadata": {
    "height": 30
   },
   "outputs": [],
   "source": []
  },
  {
   "cell_type": "code",
   "execution_count": null,
   "id": "bdba1590-9e7b-4c0f-9492-81a07d286c55",
   "metadata": {
    "height": 30
   },
   "outputs": [],
   "source": []
  },
  {
   "cell_type": "code",
   "execution_count": null,
   "id": "aa8fe4a8-5372-479d-b248-af7a295c86c1",
   "metadata": {
    "height": 30
   },
   "outputs": [],
   "source": []
  },
  {
   "cell_type": "code",
   "execution_count": null,
   "id": "7514720a-14bc-4552-ade5-fa03f86f4c73",
   "metadata": {
    "height": 30
   },
   "outputs": [],
   "source": []
  }
 ],
 "metadata": {
  "kernelspec": {
   "display_name": "Python 3 (ipykernel)",
   "language": "python",
   "name": "python3"
  },
  "language_info": {
   "codemirror_mode": {
    "name": "ipython",
    "version": 3
   },
   "file_extension": ".py",
   "mimetype": "text/x-python",
   "name": "python",
   "nbconvert_exporter": "python",
   "pygments_lexer": "ipython3",
   "version": "3.11.1"
  }
 },
 "nbformat": 4,
 "nbformat_minor": 5
}
